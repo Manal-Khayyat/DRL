{
 "cells": [
  {
   "cell_type": "code",
   "execution_count": null,
   "metadata": {
    "colab": {
     "base_uri": "https://localhost:8080/",
     "height": 714
    },
    "colab_type": "code",
    "id": "Mys8gRmW7XXq",
    "outputId": "d1237cc2-0df8-4a97-d401-92e269ec3f0f"
   },
   "outputs": [],
   "source": [
    "!pip install tensorflow==1.14"
   ]
  },
  {
   "cell_type": "code",
   "execution_count": null,
   "metadata": {
    "colab": {
     "base_uri": "https://localhost:8080/",
     "height": 350
    },
    "colab_type": "code",
    "id": "-rCwX7H7lgX_",
    "outputId": "51bee249-93e1-405f-a318-9c08dd81ebe7"
   },
   "outputs": [],
   "source": [
    "!pip install keras-rl"
   ]
  },
  {
   "cell_type": "code",
   "execution_count": null,
   "metadata": {
    "colab": {
     "base_uri": "https://localhost:8080/",
     "height": 141
    },
    "colab_type": "code",
    "id": "jUynrdr4mMDY",
    "outputId": "427edb9c-738c-481c-feb2-f8b6559bdfe5"
   },
   "outputs": [],
   "source": [
    "!pip install gym"
   ]
  },
  {
   "cell_type": "code",
   "execution_count": null,
   "metadata": {
    "colab": {
     "base_uri": "https://localhost:8080/",
     "height": 228
    },
    "colab_type": "code",
    "id": "a7DvE3lbIqSw",
    "outputId": "671aa16a-8d15-40aa-b154-7e7f44b056dc"
   },
   "outputs": [],
   "source": [
    "!pip install scikit-learn==0.19.2"
   ]
  },
  {
   "cell_type": "code",
   "execution_count": null,
   "metadata": {
    "colab": {},
    "colab_type": "code",
    "id": "fHljEP3Irjl1"
   },
   "outputs": [],
   "source": [
    "import matplotlib.pyplot as plt\n",
    "%matplotlib inline"
   ]
  },
  {
   "cell_type": "code",
   "execution_count": null,
   "metadata": {
    "colab": {},
    "colab_type": "code",
    "id": "uDFYCms2lerm"
   },
   "outputs": [],
   "source": [
    "def get_labels_only(obj, one_hot_encoded=False):\n",
    "  output_test_data = []\n",
    "\n",
    "  for index, obj in enumerate(obj):\n",
    "    if one_hot_encoded:\n",
    "      one_hot = np.zeros(64)\n",
    "      one_hot[obj[\"label\"]] = 1\n",
    "    else:\n",
    "      one_hot = obj['label']\n",
    "\n",
    "    if index % 100 == 0:\n",
    "      print(index)\n",
    "    output_test_data.append(one_hot)\n",
    "\n",
    "  return  output_test_data"
   ]
  },
  {
   "cell_type": "code",
   "execution_count": null,
   "metadata": {
    "colab": {},
    "colab_type": "code",
    "id": "xPsXYpzS36is"
   },
   "outputs": [],
   "source": [
    "combined_train_features = np.concatenate([train_features, train_text_features], axis=1)\n",
    "combined_test_features = np.concatenate([test_features, test_text_features], axis=1)"
   ]
  },
  {
   "cell_type": "code",
   "execution_count": null,
   "metadata": {
    "colab": {},
    "colab_type": "code",
    "id": "D2B8R3UE4iY1"
   },
   "outputs": [],
   "source": [
    "from sklearn.neighbors import KNeighborsClassifier, NearestNeighbors, LSHForest"
   ]
  },
  {
   "cell_type": "code",
   "execution_count": null,
   "metadata": {
    "colab": {
     "base_uri": "https://localhost:8080/",
     "height": 72
    },
    "colab_type": "code",
    "id": "lK56XsMgJJlX",
    "outputId": "b55a18a0-f3be-42c4-c7fd-4206b2909197"
   },
   "outputs": [],
   "source": [
    "lsh = LSHForest(random_state=0)"
   ]
  },
  {
   "cell_type": "code",
   "execution_count": null,
   "metadata": {
    "colab": {
     "base_uri": "https://localhost:8080/",
     "height": 52
    },
    "colab_type": "code",
    "id": "MYzY5zEyJTAN",
    "outputId": "1ba747f1-5a4f-4baa-a9b0-de24d3be5b1d"
   },
   "outputs": [],
   "source": [
    "lsh.fit(combined_train_features)"
   ]
  },
  {
   "cell_type": "code",
   "execution_count": null,
   "metadata": {
    "colab": {
     "base_uri": "https://localhost:8080/",
     "height": 34
    },
    "colab_type": "code",
    "id": "XW3DwxaPJ9tU",
    "outputId": "3634293c-6ec9-4bb7-8a18-c2fcc0fa970f"
   },
   "outputs": [],
   "source": [
    "combined_train_features.shape"
   ]
  },
  {
   "cell_type": "code",
   "execution_count": null,
   "metadata": {
    "colab": {},
    "colab_type": "code",
    "id": "cDTmAjGjlmgx"
   },
   "outputs": [],
   "source": [
    "import os, sys, math, csv, datetime, time, pickle\n",
    "import numpy as np\n",
    "import pandas as pd\n",
    "import keras"
   ]
  },
  {
   "cell_type": "code",
   "execution_count": null,
   "metadata": {
    "colab": {
     "base_uri": "https://localhost:8080/",
     "height": 471
    },
    "colab_type": "code",
    "id": "zvi3CroKmRkM",
    "outputId": "2ff3ed09-8c35-4c9d-eed1-f741b12b8367"
   },
   "outputs": [],
   "source": [
    "import numpy as np\n",
    "import gym\n",
    "from gym.wrappers.time_limit import TimeLimit\n",
    "\n",
    "from keras.models import Sequential\n",
    "from keras.layers import Dense, Activation, Flatten\n",
    "from keras.optimizers import Adam\n",
    "\n",
    "from rl.agents.dqn import DQNAgent\n",
    "from rl.policy import BoltzmannQPolicy\n",
    "from rl.memory import SequentialMemory\n",
    "\n",
    "ENV_NAME = 'ImageRetrival'"
   ]
  },
  {
   "cell_type": "code",
   "execution_count": null,
   "metadata": {
    "colab": {},
    "colab_type": "code",
    "id": "xx3o8sQpgvBx"
   },
   "outputs": [],
   "source": [
    "import gym\n",
    "from gym import error, spaces, utils\n",
    "from gym.utils import seeding\n",
    "import numpy as np\n",
    "from sklearn.metrics.pairwise import cosine_similarity\n",
    "from gym.wrappers.time_limit import TimeLimit\n",
    "from sklearn.neighbors import DistanceMetric\n",
    "\n",
    "\n",
    "class ImageRetrieval(gym.Env):\n",
    "    metadata = {'render.modes': ['human']}\n",
    "\n",
    "    def __init__(self, train_images, train_labels, k, query_images=None, knn=None, clf=None):\n",
    "        super(ImageRetrieval).__init__()\n",
    "        self.train_images = train_images\n",
    "        self.train_labels = train_labels\n",
    "        if query_images is None:\n",
    "            self.query_image = self.train_images\n",
    "        else:\n",
    "            self.query_image = query_images\n",
    "        self.k = k\n",
    "        self.dist = DistanceMetric.get_metric(1-'cosine_similarity')\n",
    "        if knn is not None:\n",
    "            self.knn = knn\n",
    "        else:\n",
    "            self.knn = KNeighborsClassifier(n_neighbors=k)\n",
    "            self.knn.fit(self.train_images, self.train_labels)\n",
    "        if clf is None:\n",
    "            self.clf = SVC()\n",
    "            self.clf.fit(self.train_images, self.train_labels)\n",
    "        else:\n",
    "            self.clf = clf\n",
    "        self.p = 0\n",
    "        self.query_image_index = 0\n",
    "        self.action_space = spaces.Discrete(3)\n",
    "        self.image_index = 0\n",
    "        self.multiple_class_len = None\n",
    "        self.observation_space = spaces.Box(low=0, high=200, shape=(1, 25088))\n",
    "        self.result_array = []\n",
    "        self.top_k_indices = None\n",
    "        self.episode_length = 10\n",
    "        self.reset()\n",
    "        self.zero_action = 0\n",
    "        self.seen_images = 0\n",
    "\n",
    "    def seed(self, seed=None):\n",
    "        self.np_random, seed = seeding.np_random(seed)\n",
    "        return [seed]\n",
    "\n",
    "    def step(self, action):\n",
    "        done = None\n",
    "        print(action)\n",
    "        assert self.action_space.contains(action)\n",
    "        old_query_image_index = self.query_image_index\n",
    "        current_observation = self.next_observation\n",
    "\n",
    "        if self.top_k_indices is None:\n",
    "            # intial state\n",
    "            print('top k indices = None')\n",
    "            distances, top_k_indices = self.knn.kneighbors([current_observation], n_neighbors=self.k)\n",
    "            top_k_indices = top_k_indices[0]\n",
    "            distances = distances[0]\n",
    "            current_class = self.clf.predict([current_observation])\n",
    "            current_classes = self.clf.predict(self.train_images[top_k_indices])\n",
    "\n",
    "            if len(set(current_classes)) == 1:\n",
    "                if current_classes[0] == current_class[0]:\n",
    "                    done = True\n",
    "                    # update query_image_idnex for next state\n",
    "                    self.query_image_index += 1\n",
    "                    self.seen_images += 1\n",
    "                    if self.seen_images == self.query_image.shape[0]:\n",
    "                        self.next_observation = np.zeros_like(current_observation)\n",
    "                    else:\n",
    "                        if self.query_image_index >= self.query_image.shape[0]:\n",
    "                            self.query_image_index = 0\n",
    "                        self.next_observation = self.query_image[self.query_image_index: self.query_image_index + 1][0]\n",
    "                else:\n",
    "                    done = False\n",
    "            else:\n",
    "                done = False\n",
    "            self.reward = sum(distances)\n",
    "            self.top_k_indices = top_k_indices\n",
    "        else:\n",
    "            print('top k indices present')\n",
    "\n",
    "            current_observation = self.next_observation\n",
    "            current_obs_class = self.clf.predict(current_observation.reshape((1, -1)))[0]\n",
    "\n",
    "            current_distances, current_indices = self.knn.kneighbors([current_observation], n_neighbors=self.k)\n",
    "            current_images = self.train_images[current_indices[0]]\n",
    "            current_classes = self.clf.predict(current_images)\n",
    "\n",
    "            print('current_classes = ', current_classes, type(current_classes))\n",
    "            print('current obs class = ', current_obs_class, type(current_obs_class))\n",
    "\n",
    "            if len(set(current_classes)) == 1 and current_classes[0] == current_obs_class:\n",
    "                print('happy days')\n",
    "                done = True\n",
    "                distances = current_distances[0]\n",
    "                self.top_k_indices = current_indices[0]\n",
    "                self.reward = sum(distances)\n",
    "                # happy days: move ahead to other query\n",
    "                self.query_image_index += 1\n",
    "                self.seen_images += 1\n",
    "                if self.seen_images == self.query_image.shape[0]:\n",
    "                    self.next_observation = np.zeros_like(current_observation)\n",
    "                else:\n",
    "                    if self.query_image_index >= self.query_image.shape[0]:\n",
    "                        self.query_image_index = 0\n",
    "                    self.next_observation = self.query_image[self.query_image_index: self.query_image_index + 1][0]\n",
    "            else:\n",
    "                done = False\n",
    "                if self.multiple_class_len is None:\n",
    "                    self.multiple_class_len = 0\n",
    "                else:\n",
    "                    self.multiple_class_len += 1\n",
    "                try:\n",
    "                    print('same features')\n",
    "                    same_features = current_images[current_classes == current_obs_class][self.multiple_class_len:self.multiple_class_len+1]\n",
    "                    try_distances, try_top_k_indices = self.knn.kneighbors(same_features, n_neighbors=self.k)\n",
    "                    try_distances = try_distances[0]\n",
    "                    try_top_k_indices = try_top_k_indices[0]\n",
    "\n",
    "                    try_classes = self.clf.predict(self.train_images[try_top_k_indices])\n",
    "\n",
    "                    self.reward = sum(try_distances)\n",
    "                    self.top_k_indices = try_top_k_indices\n",
    "\n",
    "                    if len(set(try_classes)) == 1:\n",
    "                        if try_classes[0] == current_obs_class:\n",
    "                            done = True\n",
    "                            # move ahead\n",
    "                            self.query_image_index += 1\n",
    "                            self.seen_images += 1\n",
    "                            if self.seen_images == self.query_image.shape[0]:\n",
    "                                self.next_observation = np.zeros_like(current_observation)\n",
    "                            else:\n",
    "                                if self.query_image_index >= self.query_image.shape[0]:\n",
    "                                    self.query_image_index = 0\n",
    "                                self.next_observation = \\\n",
    "                                self.query_image[self.query_image_index: self.query_image_index + 1][0]\n",
    "                        else:\n",
    "                            done = False\n",
    "                    else:\n",
    "                        done = False\n",
    "                except Exception as e:\n",
    "                    # nomore same classes present\n",
    "                    p = np.random.random(1)[0]\n",
    "                    if p > 0.5:\n",
    "                        print('0.5')\n",
    "                        distances, indices = self.knn.kneighbors([current_observation], n_neighbors=self.k)\n",
    "                        distances = distances[0]\n",
    "                        self.top_k_indices = indices[0]\n",
    "                        self.reward = sum(distances)\n",
    "                        self.query_image_index += 1\n",
    "                        self.seen_images += 1\n",
    "                        if self.seen_images == self.query_image.shape[0]:\n",
    "                            self.next_observation = np.zeros_like(current_observation)\n",
    "                        else:\n",
    "                            if self.query_image_index >= self.query_image.shape[0]:\n",
    "                                self.query_image_index = 0\n",
    "                            self.next_observation = \\\n",
    "                            self.query_image[self.query_image_index: self.query_image_index + 1][0]\n",
    "                        done = True\n",
    "                    else:\n",
    "                        print('exploring indices')\n",
    "                        indices = np.random.choice(np.arange(self.train_images.shape[0]), self.k)\n",
    "                        distances = self.dist.pairwise([current_observation], self.train_images[self.top_k_indices])[0]\n",
    "\n",
    "                        self.top_k_indices = indices\n",
    "                        self.reward = sum(distances)\n",
    "\n",
    "                        print(self.reward)\n",
    "\n",
    "                        if distances < 0.2 * self.k:\n",
    "                            done = True\n",
    "                            self.query_image_index += 1\n",
    "                            self.seen_images += 1\n",
    "                            if self.seen_images == self.query_image.shape[0]:\n",
    "                                self.next_observation = np.zeros_like(current_observation)\n",
    "                            else:\n",
    "                                if self.query_image_index >= self.query_image.shape[0]:\n",
    "                                    self.query_image_index = 0\n",
    "                                self.next_observation = \\\n",
    "                                self.query_image[self.query_image_index: self.query_image_index + 1][0]\n",
    "                        else:\n",
    "                            done = False\n",
    "\n",
    "        print('updated_query image index = ', self.query_image_index)\n",
    "        return self.next_observation, self.reward, done, dict(zip(list(range(self.k)), self.top_k_indices))\n",
    "\n",
    "    def reset(self):\n",
    "        self.top_k_indices = None\n",
    "        self.current_action_k = 0\n",
    "        self.reward = 0\n",
    "        self.query_image_index = np.random.choice(np.arange(self.query_image.shape[0]), 1)[0]\n",
    "        self.next_observation = self.query_image[self.query_image_index]\n",
    "        return self.next_observation\n",
    "\n",
    "    def render(self, mode='human'):\n",
    "        pass\n",
    "\n",
    "    def close(self):\n",
    "        del self.env\n"
   ]
  },
  {
   "cell_type": "code",
   "execution_count": null,
   "metadata": {
    "colab": {},
    "colab_type": "code",
    "id": "l0aAekaBWlzb"
   },
   "outputs": [],
   "source": [
    "k = 10\n",
    "env = TimeLimit(ImageRetrieval(combined_train_features, train_labels, k, query_images=None, knn=lsh, clf=clf), 100)\n",
    "np.random.seed(123)\n",
    "env.seed(123)\n",
    "nb_actions = env.action_space.n"
   ]
  },
  {
   "cell_type": "code",
   "execution_count": null,
   "metadata": {
    "colab": {
     "base_uri": "https://localhost:8080/",
     "height": 416
    },
    "colab_type": "code",
    "id": "MRdLBYAoWl0p",
    "outputId": "e77161ac-a3b4-44bb-8d97-faa5168d6f94"
   },
   "outputs": [],
   "source": [
    "model = Sequential()\n",
    "model.add(Flatten(input_shape=env.observation_space.shape))\n",
    "model.add(Dense(256))\n",
    "model.add(Activation('relu'))\n",
    "model.add(Dense(64))\n",
    "model.add(Activation('relu'))\n",
    "model.add(Dense(nb_actions))\n",
    "model.add(Activation('linear'))\n",
    "print(model.summary())"
   ]
  },
  {
   "cell_type": "code",
   "execution_count": null,
   "metadata": {
    "colab": {
     "base_uri": "https://localhost:8080/",
     "height": 35
    },
    "colab_type": "code",
    "id": "C17LcBytWl0-",
    "outputId": "f14eddbc-e6f5-4140-e565-b23489bd4886"
   },
   "outputs": [],
   "source": [
    "import tensorflow as tf\n",
    "tf.__version__"
   ]
  },
  {
   "cell_type": "code",
   "execution_count": null,
   "metadata": {
    "colab": {},
    "colab_type": "code",
    "id": "9hmpeAmgWl1J"
   },
   "outputs": [],
   "source": [
    "memory = SequentialMemory(limit=7000, window_length=1)\n",
    "policy = BoltzmannQPolicy()\n",
    "dqn = DQNAgent(model=model, nb_actions=nb_actions, memory=memory, nb_steps_warmup=30,\n",
    "               target_model_update=1e-2, policy=policy)\n",
    "dqn.compile(Adam(lr=1e-3), metrics=['mae', 'acc'])"
   ]
  },
  {
   "cell_type": "code",
   "execution_count": null,
   "metadata": {
    "colab": {
     "base_uri": "https://localhost:8080/",
     "height": 1000
    },
    "colab_type": "code",
    "id": "sHA0MESeWl1d",
    "outputId": "09a2549e-c006-43c0-d283-c6e7662b0aa4"
   },
   "outputs": [],
   "source": [
    "history = dqn.fit(env, nb_steps=50, visualize=False, verbose=2)"
   ]
  },
  {
   "cell_type": "code",
   "execution_count": null,
   "metadata": {
    "colab": {
     "base_uri": "https://localhost:8080/",
     "height": 34
    },
    "colab_type": "code",
    "id": "8IWvFIuJWl1o",
    "outputId": "a24ccbfa-8344-4e34-aae9-376a3eeec120"
   },
   "outputs": [],
   "source": [
    "history.history.keys()"
   ]
  },
  {
   "cell_type": "code",
   "execution_count": null,
   "metadata": {
    "colab": {},
    "colab_type": "code",
    "id": "yiUeLp9PWl1x"
   },
   "outputs": [],
   "source": [
    "import matplotlib.pyplot as plr"
   ]
  },
  {
   "cell_type": "code",
   "execution_count": null,
   "metadata": {
    "colab": {
     "base_uri": "https://localhost:8080/",
     "height": 283
    },
    "colab_type": "code",
    "id": "nxZ7kdEpWl19",
    "outputId": "76dace00-a926-43ed-dab0-368826834900"
   },
   "outputs": [],
   "source": [
    "%matplotlib inline\n",
    "\n",
    "plr.plot(history.history['episode_reward'])"
   ]
  },
  {
   "cell_type": "code",
   "execution_count": null,
   "metadata": {
    "colab": {},
    "colab_type": "code",
    "id": "UjPsSnOkABlK"
   },
   "outputs": [],
   "source": [
    "test_k = 10"
   ]
  },
  {
   "cell_type": "code",
   "execution_count": null,
   "metadata": {
    "colab": {},
    "colab_type": "code",
    "id": "jBCHZ8C8YqI-"
   },
   "outputs": [],
   "source": [
    "test_env = TimeLimit(ImageRetrieval(combined_train_features, np.array(train_labels), test_k, query_images=combined_test_features, knn=lsh, clf=clf), 100)"
   ]
  },
  {
   "cell_type": "code",
   "execution_count": null,
   "metadata": {
    "colab": {
     "base_uri": "https://localhost:8080/",
     "height": 34
    },
    "colab_type": "code",
    "id": "xFsf3SDhZSRv",
    "outputId": "c3cc3f9e-c04d-4cfa-dfef-5e165fa9fecd"
   },
   "outputs": [],
   "source": [
    "test_env"
   ]
  },
  {
   "cell_type": "code",
   "execution_count": null,
   "metadata": {
    "colab": {},
    "colab_type": "code",
    "id": "CidJb6rQAVPZ"
   },
   "outputs": [],
   "source": [
    "train_labels_arr = np.array(train_labels)"
   ]
  },
  {
   "cell_type": "code",
   "execution_count": null,
   "metadata": {
    "colab": {
     "base_uri": "https://localhost:8080/",
     "height": 1000
    },
    "colab_type": "code",
    "id": "RwIa7RDPZZA0",
    "outputId": "3080ac02-31c1-4ab8-81b6-acc5e0d4a3fe"
   },
   "outputs": [],
   "source": [
    "returned_classes = []\n",
    "actual_classes = []\n",
    "\n",
    "obs = test_env.reset()\n",
    "acc = 0\n",
    "count = 0\n",
    "\n",
    "features_num = combined_test_features.shape[0]\n",
    "\n",
    "for i in range(features_num):\n",
    "  current_index = test_env.query_image_index\n",
    "  action = dqn.forward(combined_test_features[current_index])\n",
    "  dones = False\n",
    "  episode = 0\n",
    "  print('current_idnex = ', current_index)\n",
    "  print('correct label = ', test_labels[current_index])\n",
    "  while not dones:\n",
    "    obs, rewards, dones, info = test_env.step(action)\n",
    "    print(info)\n",
    "    # print(i, rewards, dones, info)\n",
    "    if dones:\n",
    "      returned_classes.append(train_labels_arr[list(info.values())[:test_k]])\n",
    "      actual_classes.append(test_labels[current_index])\n",
    "      print('done is true = ', returned_classes[-1], test_labels[current_index])\n",
    "      found_nums = np.count_nonzero(np.array(returned_classes[-1]) == test_labels[current_index])\n",
    "      acc += (found_nums / test_k)\n",
    "      # acc += int(index_label == labels[0])\n",
    "      # print('-----------------------------------------------------')\n",
    "      count += 1\n",
    "      # print(count)\n",
    "      if count > 0 and count % 100 == 0:\n",
    "          print(\"Done \", count)\n",
    "          print(\"Accuracy so far %g %%\" % (acc/count * 100))\n",
    "      print(test_env.query_image_index)\n",
    "\n",
    "mean_accuracy = acc/features_num\n",
    "print(\"\\nThe mean accuracy for top %d images is %g %%\" % (test_k, mean_accuracy*100))\n",
    "print('---------------------------------------------------------------------')"
   ]
  },
  {
   "cell_type": "code",
   "execution_count": null,
   "metadata": {
    "colab": {
     "base_uri": "https://localhost:8080/",
     "height": 34
    },
    "colab_type": "code",
    "id": "0eQFpI27c3Zf",
    "outputId": "9ce66755-584c-4e46-e3b1-e9ccc47cf60d"
   },
   "outputs": [],
   "source": [
    "mean_accuracy"
   ]
  },
  {
   "cell_type": "code",
   "execution_count": null,
   "metadata": {
    "colab": {},
    "colab_type": "code",
    "id": "ADpc0DGoeyJt"
   },
   "outputs": [],
   "source": [
    "def get_correction_score(y_true_one_hot, y_pred_probs, is_one_hot=False):\n",
    "  if is_one_hot:\n",
    "    y_pred = np.argmax(y_pred_probs, axis=1)\n",
    "  else:\n",
    "    y_pred = y_pred_probs\n",
    "\n",
    "  if is_one_hot:\n",
    "    y_true = np.argmax(y_true_one_hot, axis=1)\n",
    "  else:\n",
    "    y_true = y_true_one_hot\n",
    "\n",
    "  print(y_pred)\n",
    "  print(y_true)\n",
    "\n",
    "  print(confusion_matrix(y_true, y_pred))\n",
    "\n",
    "  print(classification_report(y_true, y_pred))\n",
    "\n",
    "  print('accuracy = ',accuracy_score(y_true, y_pred))\n",
    "  print('precision = ', precision_score(y_true, y_pred, average='weighted'))\n",
    "  print('recall = ', recall_score(y_true, y_pred,average='weighted'))\n",
    "  print('f1 score = ', f1_score(y_true, y_pred, average='weighted'))"
   ]
  },
  {
   "cell_type": "code",
   "execution_count": null,
   "metadata": {
    "colab": {},
    "colab_type": "code",
    "id": "wPo5NYxle7le"
   },
   "outputs": [],
   "source": [
    "returned_classes_c = []\n",
    "\n",
    "for i in range(len(returned_classes)):\n",
    "  returned_classes_c.append(returned_classes[i][:test_k])"
   ]
  },
  {
   "cell_type": "code",
   "execution_count": null,
   "metadata": {
    "colab": {
     "base_uri": "https://localhost:8080/",
     "height": 34
    },
    "colab_type": "code",
    "id": "wsmFTeDdfZuX",
    "outputId": "2a6bfa6f-c571-4d4e-914d-e19c327126bb"
   },
   "outputs": [],
   "source": [
    "np.array(returned_classes_c).shape, np.array(actual_classes).shape"
   ]
  },
  {
   "cell_type": "code",
   "execution_count": null,
   "metadata": {
    "colab": {},
    "colab_type": "code",
    "id": "LxhgOF65rIYC"
   },
   "outputs": [],
   "source": [
    "acc = 0\n",
    "\n",
    "for i in range(np.array(returned_classes_c).shape[0]):\n",
    "  found_nums = np.count_nonzero(np.array(returned_classes_c[i]) == actual_classes[i])\n",
    "  acc += (found_nums / test_k)"
   ]
  },
  {
   "cell_type": "code",
   "execution_count": null,
   "metadata": {
    "colab": {
     "base_uri": "https://localhost:8080/",
     "height": 34
    },
    "colab_type": "code",
    "id": "uBktJi4Hrj2Z",
    "outputId": "84f46481-c82a-452e-9832-7671742c99ad"
   },
   "outputs": [],
   "source": [
    "acc / len(returned_classes_c)"
   ]
  },
  {
   "cell_type": "code",
   "execution_count": null,
   "metadata": {
    "colab": {},
    "colab_type": "code",
    "id": "U5xpxk0xvA2V"
   },
   "outputs": [],
   "source": []
  }
 ],
 "metadata": {
  "colab": {
   "collapsed_sections": [],
   "name": "LSH.ipynb",
   "provenance": []
  },
  "kernelspec": {
   "display_name": "Python 3",
   "language": "python",
   "name": "python3"
  },
  "language_info": {
   "codemirror_mode": {
    "name": "ipython",
    "version": 3
   },
   "file_extension": ".py",
   "mimetype": "text/x-python",
   "name": "python",
   "nbconvert_exporter": "python",
   "pygments_lexer": "ipython3",
   "version": "3.7.6"
  }
 },
 "nbformat": 4,
 "nbformat_minor": 1
}
